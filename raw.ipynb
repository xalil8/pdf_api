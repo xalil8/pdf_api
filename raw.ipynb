{
 "cells": [
  {
   "cell_type": "code",
   "execution_count": null,
   "metadata": {},
   "outputs": [],
   "source": [
    "import os \n",
    "file_size = os.path.getsize('google_api.pdf')\n",
    "print(\"File Size is :\", file_size/1000 , \"kilobytes\")"
   ]
  },
  {
   "cell_type": "code",
   "execution_count": null,
   "metadata": {},
   "outputs": [],
   "source": [
    "import json\n",
    "\n",
    "# open the file\n",
    "with open(\"credentials.json\", \"r\") as file:\n",
    "    # load the JSON data from the file\n",
    "    data = json.load(file)\n",
    "\n",
    "# access elements in the loaded JSON data\n",
    "print(data)\n"
   ]
  },
  {
   "cell_type": "code",
   "execution_count": 10,
   "metadata": {},
   "outputs": [
    {
     "name": "stdout",
     "output_type": "stream",
     "text": [
      "Your browser has been opened to visit:\n",
      "\n",
      "    https://accounts.google.com/o/oauth2/auth?client_id=242857794906-2mv7e1qbaie2i2u96h6e364gmqa6csh7.apps.googleusercontent.com&redirect_uri=http%3A%2F%2Flocalhost%3A8080%2F&scope=https%3A%2F%2Fwww.googleapis.com%2Fauth%2Fdrive&access_type=offline&response_type=code\n",
      "\n",
      "Authentication successful.\n"
     ]
    }
   ],
   "source": [
    "from pydrive.auth import GoogleAuth\n",
    "from pydrive.drive import GoogleDrive\n",
    "\n",
    "\n",
    "gauth = GoogleAuth()\n",
    "\n",
    "gauth.LocalWebserverAuth()\n",
    "\n",
    "drive = GoogleDrive(gauth)\n",
    "\n",
    "\n",
    "f = drive.CreateFile({'title': 'google_api123.pdf',\n",
    "                      'mimeType': 'application/pdf',\n",
    "                      'parents': [{'kind': 'drive#fileLink', 'id':\"1QIBNUM0AM6Nj395spZ6JNF7qE1bMPKRd\"}]})\n",
    "                      \n",
    "f.SetContentFile('google_api.pdf')\n",
    "f.Upload()"
   ]
  },
  {
   "cell_type": "code",
   "execution_count": 13,
   "metadata": {},
   "outputs": [],
   "source": [
    "f = drive.CreateFile({'title': 'google_api1223.pdf',\n",
    "                      'mimeType': 'application/pdf',\n",
    "                      'parents': [{'kind': 'drive#fileLink', 'id':\"1QIBNUM0AM6Nj395spZ6JNF7qE1bMPKRd\"}]})\n",
    "                      \n",
    "f.SetContentFile('google_api.pdf')\n",
    "f.Upload()"
   ]
  },
  {
   "cell_type": "code",
   "execution_count": null,
   "metadata": {},
   "outputs": [],
   "source": []
  }
 ],
 "metadata": {
  "kernelspec": {
   "display_name": "Python 3",
   "language": "python",
   "name": "python3"
  },
  "language_info": {
   "codemirror_mode": {
    "name": "ipython",
    "version": 3
   },
   "file_extension": ".py",
   "mimetype": "text/x-python",
   "name": "python",
   "nbconvert_exporter": "python",
   "pygments_lexer": "ipython3",
   "version": "3.10.8 (v3.10.8:aaaf517424, Oct 11 2022, 10:14:40) [Clang 13.0.0 (clang-1300.0.29.30)]"
  },
  "orig_nbformat": 4,
  "vscode": {
   "interpreter": {
    "hash": "98590ff4fe04c8543246b2a01debd3de3c5ca9b666f43f1fa87d5110c692004c"
   }
  }
 },
 "nbformat": 4,
 "nbformat_minor": 2
}
